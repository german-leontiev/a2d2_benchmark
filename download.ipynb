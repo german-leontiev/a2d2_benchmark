{
 "cells": [
  {
   "cell_type": "markdown",
   "id": "efd70f2c-174d-4f35-ae14-51035a33a313",
   "metadata": {
    "tags": []
   },
   "source": [
    "# Download dataset"
   ]
  },
  {
   "cell_type": "code",
   "execution_count": 1,
   "id": "6c326a2f-dc2c-40d8-8968-2897f34aa8f1",
   "metadata": {},
   "outputs": [],
   "source": [
    "from global_names import *\n",
    "import requests, xmltodict, os\n",
    "from glob import glob\n",
    "\n",
    "DL_SERVER = \"https://aev-autonomous-driving-dataset.s3.eu-central-1.amazonaws.com/\""
   ]
  },
  {
   "cell_type": "code",
   "execution_count": 2,
   "id": "250bdde4-d6c6-4254-9f76-b57a5fbdd042",
   "metadata": {},
   "outputs": [],
   "source": [
    "my_xml = requests.get(DL_SERVER).text\n",
    "my_dict = xmltodict.parse(my_xml)\n",
    "my_files = {i[\"Key\"]:i[\"Size\"] for i in my_dict[\"ListBucketResult\"][\"Contents\"]}"
   ]
  },
  {
   "cell_type": "code",
   "execution_count": 3,
   "id": "dbfce81a-fa57-4027-871f-56e14bbe2c7a",
   "metadata": {},
   "outputs": [
    {
     "name": "stdout",
     "output_type": "stream",
     "text": [
      "Download not finished:\n",
      "\n",
      "camera_lidar-20190401121727_lidar_sideleft.tar\n",
      "\n",
      "\n",
      "\n",
      "Not presented:\n",
      "\n",
      "camera_lidar-20190401121727_lidar_sideright.tar\n",
      "camera_lidar-20190401145936_camera_sideleft.tar\n",
      "camera_lidar-20190401145936_lidar_rearcenter.tar\n",
      "camera_lidar_semantic_bus.tar\n",
      "camera_lidar_semantic_instance.tar\n",
      "tutorial.html\n",
      "tutorial.ipynb\n"
     ]
    }
   ],
   "source": [
    "to_load = []\n",
    "print(\"Download not finished:\", end=\"\\n\\n\")\n",
    "for f in glob(os.path.join(A2D2_PATH, \"*\")):\n",
    "    if os.path.isfile(f):\n",
    "        filesize = os.path.getsize(f)\n",
    "        filename = os.path.basename(f)\n",
    "        if filename in my_files.keys():\n",
    "            if not int(my_files[filename]) == int(filesize):\n",
    "                to_load.append(filename)\n",
    "                print(filename)\n",
    "\n",
    "\n",
    "print(\"\\n\\n\\nNot presented:\", end=\"\\n\\n\")\n",
    "for f in my_files.keys():\n",
    "    if not os.path.exists(os.path.join(A2D2_PATH, f)):\n",
    "        to_load.append(f)\n",
    "        print(f)"
   ]
  },
  {
   "cell_type": "code",
   "execution_count": 5,
   "id": "3083afa3-960b-48ab-a573-433ea1144112",
   "metadata": {},
   "outputs": [],
   "source": [
    "with open(os.path.join(\"to_load.txt\"), \"w\") as file:\n",
    "    for f in to_load:\n",
    "        string = DL_SERVER + f + \"\\n\"\n",
    "        file.write(string)"
   ]
  }
 ],
 "metadata": {
  "kernelspec": {
   "display_name": "Python 3 (ipykernel)",
   "language": "python",
   "name": "python3"
  },
  "language_info": {
   "codemirror_mode": {
    "name": "ipython",
    "version": 3
   },
   "file_extension": ".py",
   "mimetype": "text/x-python",
   "name": "python",
   "nbconvert_exporter": "python",
   "pygments_lexer": "ipython3",
   "version": "3.8.13"
  }
 },
 "nbformat": 4,
 "nbformat_minor": 5
}

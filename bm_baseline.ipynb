{
 "cells": [
  {
   "cell_type": "markdown",
   "id": "1e7ea8a2-0d10-4b8b-a501-0be37ef8d2d5",
   "metadata": {},
   "source": [
    "### Import libs, global variables and pickled files"
   ]
  },
  {
   "cell_type": "code",
   "execution_count": 1,
   "id": "ba04c81c-14ce-48f8-9385-b1de128cf4f9",
   "metadata": {},
   "outputs": [],
   "source": [
    "import pickle, os, cv2, random, tqdm, json\n",
    "from random import choice as r_ch\n",
    "import numpy as np\n",
    "import pandas as pd\n",
    "\n",
    "from os.path import join as join_path\n",
    "from os.path import sep as os_sep\n",
    "from os.path import exists as path_exists\n",
    "\n",
    "import matplotlib.pyplot as plt\n",
    "%matplotlib inline\n",
    "\n",
    "import warnings\n",
    "warnings.filterwarnings(\"ignore\")\n",
    "\n",
    "import torch\n",
    "import torch.nn as nn\n",
    "from torch.utils.data import DataLoader\n",
    "import albumentations as album\n",
    "import segmentation_models_pytorch as smp\n",
    "\n",
    "from global_names import A2D2_PATH\n",
    "\n",
    "\n",
    "with open(\"bm_ds.pkl\", \"rb\") as f:\n",
    "    bm_ds = pickle.load(f)\n",
    "    \n",
    "# Load files\n",
    "with open(join_path(A2D2_PATH, \"camera_lidar_semantic\", \"class_list.json\"), \"rb\") as f:\n",
    "     class_list= json.load(f)"
   ]
  },
  {
   "cell_type": "markdown",
   "id": "6f9a7a8c-1d12-4e88-a431-471a9a3716f3",
   "metadata": {},
   "source": [
    "### Define functions for getting paths from ids"
   ]
  },
  {
   "cell_type": "code",
   "execution_count": 2,
   "id": "d32b6aad-6fb9-47c0-ae25-d5bc662cd26d",
   "metadata": {
    "tags": []
   },
   "outputs": [],
   "source": [
    "ss_p = join_path(A2D2_PATH, \"camera_lidar_semantic\")\n",
    "\n",
    "sens_ext = {\n",
    "    \"camera\": \".png\",\n",
    "    \"label\": \".png\",\n",
    "    \"lidar\": \".npz\"\n",
    "}\n",
    "\n",
    "rel_ = lambda __p: join_path(*__p.split(os_sep)[__p.split(os_sep).index('camera_lidar_semantic'):])\n",
    "abs_ = lambda __p: join_path(A2D2_PATH, __p)\n",
    "\n",
    "def sensor_p(_id, s_type):\n",
    "    if s_type not in sens_ext.keys(): raise ValueError(\"Wrong sensor type: s_type\")\n",
    "    d,t,s = _id.split(\"_\")\n",
    "    _p = \"_\".join([d, s_type, s, t]) + sens_ext[s_type]\n",
    "    _p = join_path(ss_p, f\"{d[:8]}_{d[8:]}\", s_type, f\"cam_{sa_(s)}\", _p)\n",
    "    return rel_(_p)\n",
    "\n",
    "def sa_(x):\n",
    "    als = [\"center\", \"left\", \"right\"]\n",
    "    for o in als:\n",
    "        if o in x:\n",
    "            return x.replace(o, \"_\" + o)\n",
    "    raise ValueError(f\"Bad index contains wrong sensor align: {x}\")"
   ]
  },
  {
   "cell_type": "markdown",
   "id": "ebd8b5f8-92ae-47e4-be33-6d7bf775369f",
   "metadata": {},
   "source": [
    "### Create dataset from sparced ids"
   ]
  },
  {
   "cell_type": "code",
   "execution_count": 3,
   "id": "d14ef5e7-6bc1-477b-af59-ed7356a3d066",
   "metadata": {},
   "outputs": [],
   "source": [
    "# It's important to reduce number of images\n",
    "sparced_ids = [val for i, val in enumerate(bm_ds[\"train_ids\"]) if i % 10 == 0]\n",
    "x_train_dir = np.array([abs_(sensor_p(p, \"camera\")) for p in sparced_ids])\n",
    "y_train_dir = np.array([abs_(sensor_p(p, \"label\")) for p in sparced_ids])\n",
    "\n",
    "# It's important to reduce number of images\n",
    "sparced_val_ids = [val for i, val in enumerate(bm_ds[\"val_ids\"]) if i % 10 == 0]\n",
    "val_images_paths = np.array([abs_(sensor_p(p, \"camera\")) for p in sparced_val_ids])\n",
    "val_labels_paths = np.array([abs_(sensor_p(p, \"label\")) for p in sparced_val_ids])"
   ]
  },
  {
   "cell_type": "code",
   "execution_count": 4,
   "id": "2bf7c790-8db2-4543-a54d-7bcdae843f9f",
   "metadata": {
    "tags": []
   },
   "outputs": [],
   "source": [
    "class_names = list(class_list.values())\n",
    "class_rgb_values = [[int(i[1:3], 16), int(i[3:5], 16), int(i[5:7], 16)] for i in class_list.keys()]\n",
    "\n",
    "# Useful to shortlist specific classes in datasets with large number of classes\n",
    "select_classes = class_names # all classes\n",
    "\n",
    "# Get RGB values of required classes\n",
    "select_class_indices = [class_names.index(cls) for cls in select_classes]\n",
    "select_class_rgb_values =  np.array(class_rgb_values)[select_class_indices]"
   ]
  },
  {
   "cell_type": "code",
   "execution_count": 5,
   "id": "65c61d12-3d18-4d1d-8599-9c9826753b4b",
   "metadata": {
    "tags": []
   },
   "outputs": [],
   "source": [
    "class A2D2_Dataset(torch.utils.data.Dataset):\n",
    "\n",
    "    \"\"\"Audi Autonomous Driving Dataset. \n",
    "       Read images, apply augmentation and preprocessing transformations.\n",
    "    \n",
    "    Args:\n",
    "        images_dir (str): path to images folder\n",
    "        masks_dir (str): path to segmentation masks folder\n",
    "        class_rgb_values (list): RGB values of select classes to extract from segmentation mask\n",
    "        augmentation (albumentations.Compose): data transfromation pipeline \n",
    "            (e.g. flip, scale, etc.)\n",
    "        preprocessing (albumentations.Compose): data preprocessing \n",
    "            (e.g. noralization, shape manipulation, etc.)\n",
    "    \n",
    "    \"\"\"\n",
    "    \n",
    "    def __init__(\n",
    "            self, \n",
    "            images_list, \n",
    "            masks_list, \n",
    "            class_rgb_values=None, \n",
    "            augmentation=None, \n",
    "            preprocessing=None,\n",
    "    ):\n",
    "        \n",
    "        self.image_paths = images_list\n",
    "        self.mask_paths = masks_list\n",
    "\n",
    "        self.class_rgb_values = class_rgb_values\n",
    "        self.augmentation = augmentation\n",
    "        self.preprocessing = preprocessing\n",
    "    \n",
    "    def __getitem__(self, i):\n",
    "        \n",
    "        # read images and masks\n",
    "        image = cv2.cvtColor(cv2.imread(self.image_paths[i]), cv2.COLOR_BGR2RGB)\n",
    "        mask = cv2.cvtColor(cv2.imread(self.mask_paths[i]), cv2.COLOR_BGR2RGB)\n",
    "        \n",
    "        # one-hot-encode the mask\n",
    "        mask = one_hot_encode(mask, self.class_rgb_values).astype('float')\n",
    "        \n",
    "        # apply augmentations\n",
    "        if self.augmentation:\n",
    "            sample = self.augmentation(image=image, mask=mask)\n",
    "            image, mask = sample['image'], sample['mask']\n",
    "        \n",
    "        # apply preprocessing\n",
    "        if self.preprocessing:\n",
    "            sample = self.preprocessing(image=image, mask=mask)\n",
    "            image, mask = sample['image'], sample['mask']\n",
    "            \n",
    "        return image, mask\n",
    "        \n",
    "    def __len__(self):\n",
    "        # return length of \n",
    "        return len(self.image_paths)"
   ]
  },
  {
   "cell_type": "markdown",
   "id": "36b4549f-4a44-4626-b9e6-a26e2058e55d",
   "metadata": {},
   "source": [
    "### Create model"
   ]
  },
  {
   "cell_type": "code",
   "execution_count": 6,
   "id": "1fade33a-c9e2-442b-b5ee-d3f619baeb88",
   "metadata": {},
   "outputs": [],
   "source": [
    "def get_training_augmentation():\n",
    "    train_transform = [    \n",
    "        album.RandomCrop(height=256, width=256, always_apply=True),\n",
    "        album.OneOf(\n",
    "            [\n",
    "                album.HorizontalFlip(p=1),\n",
    "                album.VerticalFlip(p=1),\n",
    "                album.RandomRotate90(p=1),\n",
    "            ],\n",
    "            p=0.75,\n",
    "        ),\n",
    "    ]\n",
    "    return album.Compose(train_transform)\n",
    "\n",
    "\n",
    "def get_validation_augmentation():   \n",
    "    # Add sufficient padding to ensure image is divisible by 32\n",
    "    test_transform = [\n",
    "        album.PadIfNeeded(min_height=1536, min_width=1536, always_apply=True, border_mode=0),\n",
    "    ]\n",
    "    return album.Compose(test_transform)\n",
    "\n",
    "\n",
    "def to_tensor(x, **kwargs):\n",
    "    return x.transpose(2, 0, 1).astype('float32')\n",
    "\n",
    "\n",
    "def get_preprocessing(preprocessing_fn=None):\n",
    "    \"\"\"Construct preprocessing transform    \n",
    "    Args:\n",
    "        preprocessing_fn (callable): data normalization function \n",
    "            (can be specific for each pretrained neural network)\n",
    "    Return:\n",
    "        transform: albumentations.Compose\n",
    "    \"\"\"   \n",
    "    _transform = []\n",
    "    if preprocessing_fn:\n",
    "        _transform.append(album.Lambda(image=preprocessing_fn))\n",
    "    _transform.append(album.Lambda(image=to_tensor, mask=to_tensor))\n",
    "        \n",
    "    return album.Compose(_transform)"
   ]
  },
  {
   "cell_type": "code",
   "execution_count": 7,
   "id": "a224dfd5-8d09-43c5-a296-ca239080261f",
   "metadata": {},
   "outputs": [],
   "source": [
    "ENCODER = 'resnet101'\n",
    "ENCODER_WEIGHTS = 'imagenet'\n",
    "CLASSES = class_names\n",
    "ACTIVATION = 'sigmoid' # could be None for logits or 'softmax2d' for multiclass segmentation\n",
    "\n",
    "# create segmentation model with pretrained encoder\n",
    "model = smp.DeepLabV3Plus(\n",
    "    encoder_name=ENCODER, \n",
    "    encoder_weights=ENCODER_WEIGHTS, \n",
    "    classes=len(CLASSES), \n",
    "    activation=ACTIVATION,\n",
    ")\n",
    "\n",
    "preprocessing_fn = smp.encoders.get_preprocessing_fn(ENCODER, ENCODER_WEIGHTS)"
   ]
  },
  {
   "cell_type": "markdown",
   "id": "4399ce96-a3ba-4afd-8afe-e8e388d6f6c4",
   "metadata": {},
   "source": [
    "### Define training"
   ]
  },
  {
   "cell_type": "code",
   "execution_count": 19,
   "id": "61203e4b-1a51-444c-ab1e-889b25437cac",
   "metadata": {},
   "outputs": [],
   "source": [
    "# Get train and val dataset instances\n",
    "train_dataset = A2D2_Dataset(\n",
    "    x_train_dir, y_train_dir, \n",
    "    augmentation=get_training_augmentation(),\n",
    "    preprocessing=get_preprocessing(preprocessing_fn),\n",
    "    class_rgb_values=select_class_rgb_values,\n",
    ")\n",
    "\n",
    "valid_dataset = A2D2_Dataset(\n",
    "    val_images_paths, val_labels_paths, \n",
    "    augmentation=get_validation_augmentation(), \n",
    "    preprocessing=get_preprocessing(preprocessing_fn),\n",
    "    class_rgb_values=select_class_rgb_values,\n",
    ")"
   ]
  },
  {
   "cell_type": "code",
   "execution_count": 20,
   "id": "c068f880-a7c5-4462-9f70-92d7a216d61c",
   "metadata": {},
   "outputs": [],
   "source": [
    "# Set flag to train the model or not. If set to 'False', only prediction is performed (using an older model checkpoint)\n",
    "TRAINING = True\n",
    "\n",
    "# Set device: `cuda` or `cpu`\n",
    "DEVICE = torch.device(\"cuda\" if torch.cuda.is_available() else \"cpu\")\n",
    "\n",
    "# define loss function\n",
    "loss = smp.utils.losses.DiceLoss()\n",
    "\n",
    "# define metrics\n",
    "metrics = [\n",
    "    smp.utils.metrics.IoU(threshold=0.5),\n",
    "]\n",
    "\n",
    "# define optimizer\n",
    "optimizer = torch.optim.Adam([ \n",
    "    dict(params=model.parameters(), lr=0.0001),\n",
    "])\n",
    "\n",
    "# define learning rate scheduler (not used in this NB)\n",
    "lr_scheduler = torch.optim.lr_scheduler.CosineAnnealingWarmRestarts(\n",
    "    optimizer, T_0=1, T_mult=2, eta_min=5e-5,\n",
    ")"
   ]
  },
  {
   "cell_type": "code",
   "execution_count": 21,
   "id": "244291b8-ef12-4b79-bdb7-d4f0203896a7",
   "metadata": {},
   "outputs": [],
   "source": [
    "# load best saved model checkpoint from previous commit (if present)\n",
    "if os.path.exists('best_baseline_model.pth'):\n",
    "    model = torch.load('best_baseline_model.pth', map_location=DEVICE)"
   ]
  },
  {
   "cell_type": "code",
   "execution_count": 22,
   "id": "2ff2ca41-e58e-4476-9d06-d3c41adb2e04",
   "metadata": {},
   "outputs": [],
   "source": [
    "train_epoch = smp.utils.train.TrainEpoch(\n",
    "    model, \n",
    "    loss=loss, \n",
    "    metrics=metrics, \n",
    "    optimizer=optimizer,\n",
    "    device=DEVICE,\n",
    "    verbose=True,\n",
    ")\n",
    "\n",
    "valid_epoch = smp.utils.train.ValidEpoch(\n",
    "    model, \n",
    "    loss=loss, \n",
    "    metrics=metrics, \n",
    "    device=DEVICE,\n",
    "    verbose=True,\n",
    ")"
   ]
  },
  {
   "cell_type": "code",
   "execution_count": 64,
   "id": "a0fab779-e25f-4913-9703-56299b1dd02a",
   "metadata": {},
   "outputs": [],
   "source": [
    "# Set num of epochs\n",
    "EPOCHS = 5\n",
    "\n",
    "# Get train and val data loaders\n",
    "train_loader = DataLoader(train_dataset, batch_size=2, shuffle=True, num_workers=0)\n",
    "valid_loader = DataLoader(valid_dataset, batch_size=2, shuffle=False, num_workers=0)"
   ]
  },
  {
   "cell_type": "markdown",
   "id": "249be601-5679-4cb2-b358-80fcd0064173",
   "metadata": {},
   "source": [
    "### Run training loop"
   ]
  },
  {
   "cell_type": "code",
   "execution_count": 25,
   "id": "14d492b1-c3d7-4c84-a961-39cd011cb1fb",
   "metadata": {},
   "outputs": [
    {
     "name": "stdout",
     "output_type": "stream",
     "text": [
      "\n",
      "Epoch: 0\n",
      "train: 100%|██████████| 1359/1359 [3:19:44<00:00,  8.82s/it, dice_loss - 0.6505, iou_score - 0.2647] \n",
      "valid: 100%|██████████| 283/283 [59:59<00:00, 12.72s/it, dice_loss - 0.4065, iou_score - 0.4482]\n",
      "Model saved!\n",
      "\n",
      "Epoch: 1\n",
      "train: 100%|██████████| 1359/1359 [3:17:29<00:00,  8.72s/it, dice_loss - 0.4855, iou_score - 0.3918] \n",
      "valid: 100%|██████████| 283/283 [57:58<00:00, 12.29s/it, dice_loss - 0.3594, iou_score - 0.4877]\n",
      "Model saved!\n",
      "\n",
      "Epoch: 2\n",
      "train: 100%|██████████| 1359/1359 [3:18:52<00:00,  8.78s/it, dice_loss - 0.4268, iou_score - 0.4546] \n",
      "valid: 100%|██████████| 283/283 [58:41<00:00, 12.44s/it, dice_loss - 0.3166, iou_score - 0.5333]\n",
      "Model saved!\n",
      "\n",
      "Epoch: 3\n",
      "train: 100%|██████████| 1359/1359 [3:18:03<00:00,  8.74s/it, dice_loss - 0.3857, iou_score - 0.4989] \n",
      "valid: 100%|██████████| 283/283 [58:07<00:00, 12.32s/it, dice_loss - 0.3736, iou_score - 0.479] \n",
      "\n",
      "Epoch: 4\n",
      "train: 100%|██████████| 1359/1359 [3:17:56<00:00,  8.74s/it, dice_loss - 0.3744, iou_score - 0.5046] \n",
      "valid: 100%|██████████| 283/283 [58:10<00:00, 12.34s/it, dice_loss - 0.214, iou_score - 0.6901] \n",
      "Model saved!\n",
      "CPU times: user 1d 53min 57s, sys: 5h 57min 37s, total: 1d 6h 51min 34s\n",
      "Wall time: 21h 25min 8s\n"
     ]
    }
   ],
   "source": [
    "%%time\n",
    "\n",
    "if TRAINING:\n",
    "\n",
    "    best_iou_score = 0.0\n",
    "    train_logs_list, valid_logs_list = [], []\n",
    "\n",
    "    for i in range(0, EPOCHS):\n",
    "\n",
    "        # Perform training & validation\n",
    "        print('\\nEpoch: {}'.format(i))\n",
    "        train_logs = train_epoch.run(train_loader)\n",
    "        valid_logs = valid_epoch.run(valid_loader)\n",
    "        train_logs_list.append(train_logs)\n",
    "        valid_logs_list.append(valid_logs)\n",
    "\n",
    "        # Save model if a better val IoU score is obtained\n",
    "        if best_iou_score < valid_logs['iou_score']:\n",
    "            best_iou_score = valid_logs['iou_score']\n",
    "            torch.save(model, './best_baseline_model.pth')\n",
    "            print('Model saved!')"
   ]
  },
  {
   "cell_type": "code",
   "execution_count": 62,
   "id": "f7ba2771-967c-4480-9468-b9581a51e664",
   "metadata": {},
   "outputs": [
    {
     "data": {
      "image/png": "[encoded data removed]",
      "text/plain": [
       "<Figure size 432x288 with 1 Axes>"
      ]
     },
     "metadata": {
      "needs_background": "light"
     },
     "output_type": "display_data"
    }
   ],
   "source": [
    "fig, ax = plt.subplots()\n",
    "\n",
    "score_train = [i[\"iou_score\"] for i in train_logs_list]\n",
    "score_valid = [i[\"iou_score\"] for i in valid_logs_list]\n",
    "\n",
    "ax.plot(score_train, label=\"train IoU\")\n",
    "ax.plot(score_valid, label=\"validation IoU\")\n",
    "ax.set_xticks([i for i in range(5)])\n",
    "\n",
    "plt.suptitle(\"IoU during train\")\n",
    "plt.xlabel(\"epoch\")\n",
    "plt.ylabel(\"IoU\")\n",
    "\n",
    "plt.legend()\n",
    "plt.show()"
   ]
  },
  {
   "cell_type": "markdown",
   "id": "df88b2eb-bcd7-4377-b28e-ef336d9d9619",
   "metadata": {},
   "source": [
    "### Check IoU on the test benchmark"
   ]
  },
  {
   "cell_type": "code",
   "execution_count": 72,
   "id": "b9885f4e-c4c6-490d-92c3-6fb0f2405f13",
   "metadata": {},
   "outputs": [],
   "source": [
    "test_ids = bm_ds[\"test_ids\"]\n",
    "x_test_dir = np.array([abs_(sensor_p(p, \"camera\")) for p in test_ids])\n",
    "y_test_dir = np.array([abs_(sensor_p(p, \"label\")) for p in test_ids])"
   ]
  },
  {
   "cell_type": "code",
   "execution_count": 120,
   "id": "663f396f-9208-4bf9-8232-b0fa598be9ac",
   "metadata": {},
   "outputs": [],
   "source": [
    "# create test dataloader (with preprocessing operation: to_tensor(...))\n",
    "test_dataset = A2D2_Dataset(\n",
    "    x_test_dir, \n",
    "    y_test_dir, \n",
    "    augmentation=get_validation_augmentation(), \n",
    "    preprocessing=get_preprocessing(preprocessing_fn),\n",
    "    class_rgb_values=select_class_rgb_values,\n",
    ")\n",
    "\n",
    "test_dataloader = DataLoader(test_dataset)"
   ]
  },
  {
   "cell_type": "code",
   "execution_count": null,
   "id": "5b8e8acb-4597-467e-b549-dcb28a718222",
   "metadata": {},
   "outputs": [],
   "source": [
    "x_tensor.shape"
   ]
  },
  {
   "cell_type": "code",
   "execution_count": null,
   "id": "b51f5587-b5e0-4dce-bfd9-de734d1f2ae6",
   "metadata": {},
   "outputs": [],
   "source": [
    "image, gt_mask = test_dataset[0]\n",
    "x_tensor = torch.from_numpy(image).to(DEVICE).unsqueeze(0)\n",
    "\n",
    "pred_mask = model(x_tensor)\n",
    "pred_mask = pred_mask.detach().squeeze().cpu().numpy()"
   ]
  },
  {
   "cell_type": "code",
   "execution_count": null,
   "id": "8185697e-f370-4221-a6aa-d8acff29e162",
   "metadata": {},
   "outputs": [],
   "source": [
    "gt_mask.shape"
   ]
  },
  {
   "cell_type": "code",
   "execution_count": null,
   "id": "08a50862-bc82-4fd9-a24f-f054c1b1396f",
   "metadata": {},
   "outputs": [],
   "source": [
    "pred_mask.shape"
   ]
  }
 ],
 "metadata": {
  "kernelspec": {
   "display_name": "Python 3 (ipykernel)",
   "language": "python",
   "name": "python3"
  },
  "language_info": {
   "codemirror_mode": {
    "name": "ipython",
    "version": 3
   },
   "file_extension": ".py",
   "mimetype": "text/x-python",
   "name": "python",
   "nbconvert_exporter": "python",
   "pygments_lexer": "ipython3",
   "version": "3.8.13"
  }
 },
 "nbformat": 4,
 "nbformat_minor": 5
}

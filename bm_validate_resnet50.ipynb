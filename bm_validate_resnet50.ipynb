{
 "cells": [
  {
   "cell_type": "code",
   "execution_count": 1,
   "id": "b15ed920-9c93-4d3f-9e28-03b21826133c",
   "metadata": {},
   "outputs": [],
   "source": [
    "import torch, pickle, json\n",
    "from global_names import A2D2_Dataset, sensor_p, abs_, \\\n",
    "get_validation_augmentation, get_preprocessing, A2D2_PATH, preprocessing_fn\n",
    "import numpy as np\n",
    "from os.path import join as join_path\n",
    "from torch.utils.data import DataLoader\n",
    "\n",
    "with open(\"bm_ds.pkl\", \"rb\") as f:\n",
    "    bm_ds = pickle.load(f)\n",
    "\n",
    "# Load files\n",
    "with open(join_path(A2D2_PATH, \"camera_lidar_semantic\", \"class_list.json\"), \"rb\") as f:\n",
    "     class_list= json.load(f)\n",
    "\n",
    "DEVICE = torch.device(\"cuda\" if torch.cuda.is_available() else \"cpu\")"
   ]
  },
  {
   "cell_type": "code",
   "execution_count": 2,
   "id": "6c51ae22-d208-4fdd-9ac3-d9e812dfaca3",
   "metadata": {},
   "outputs": [],
   "source": [
    "test_ids = bm_ds[\"test_ids\"]\n",
    "x_test_dir = np.array([abs_(sensor_p(p, \"camera\")) for p in test_ids])\n",
    "y_test_dir = np.array([abs_(sensor_p(p, \"label\")) for p in test_ids])"
   ]
  },
  {
   "cell_type": "code",
   "execution_count": 3,
   "id": "a8596b9e-ea26-4ffb-a441-2e2bcc2dbdb7",
   "metadata": {},
   "outputs": [],
   "source": [
    "class_names = list(class_list.values())\n",
    "class_rgb_values = [[int(i[1:3], 16), int(i[3:5], 16), int(i[5:7], 16)] for i in class_list.keys()]\n",
    "\n",
    "# Useful to shortlist specific classes in datasets with large number of classes\n",
    "select_classes = class_names # all classes\n",
    "\n",
    "# Get RGB values of required classes\n",
    "select_class_indices = [class_names.index(cls) for cls in select_classes]\n",
    "select_class_rgb_values =  np.array(class_rgb_values)[select_class_indices]"
   ]
  },
  {
   "cell_type": "code",
   "execution_count": 4,
   "id": "1032e151-1c30-48ed-af2f-95a0e16fc8ba",
   "metadata": {},
   "outputs": [],
   "source": [
    "test_dataset = A2D2_Dataset(\n",
    "    x_test_dir, \n",
    "    y_test_dir, \n",
    "    augmentation=get_validation_augmentation(), \n",
    "    preprocessing=get_preprocessing(preprocessing_fn),\n",
    "    class_rgb_values=select_class_rgb_values,\n",
    ")\n",
    "\n",
    "test_dataloader = DataLoader(test_dataset)"
   ]
  },
  {
   "cell_type": "code",
   "execution_count": 11,
   "id": "c82339e6-ecb8-484f-82af-c9af28acb250",
   "metadata": {},
   "outputs": [],
   "source": [
    "model = torch.load('./best_baseline_model.pth', map_location=DEVICE)"
   ]
  },
  {
   "cell_type": "code",
   "execution_count": 15,
   "id": "fd0fa825-a5d3-43a0-a9be-452da8b916fe",
   "metadata": {},
   "outputs": [],
   "source": [
    "image, gt_mask = test_dataset[0]\n",
    "x_tensor = torch.from_numpy(image).to(DEVICE).unsqueeze(0)"
   ]
  },
  {
   "cell_type": "code",
   "execution_count": 28,
   "id": "ffb89b01-698d-43d7-8ad4-259b6eed63cb",
   "metadata": {},
   "outputs": [
    {
     "name": "stdout",
     "output_type": "stream",
     "text": [
      "Time of prediction: 127.22 ms\n"
     ]
    }
   ],
   "source": [
    "start = torch.cuda.Event(enable_timing=True)\n",
    "end = torch.cuda.Event(enable_timing=True)\n",
    "\n",
    "start.record()\n",
    "pred_mask = model(x_tensor)\n",
    "end.record()\n",
    "\n",
    "# Waits for everything to finish running\n",
    "torch.cuda.synchronize()\n",
    "\n",
    "print(f\"Time of prediction: {start.elapsed_time(end):.2f} ms\")\n"
   ]
  },
  {
   "cell_type": "code",
   "execution_count": 46,
   "id": "12fe984a-a913-4d30-ac11-622f85e93b1f",
   "metadata": {},
   "outputs": [],
   "source": [
    "import segmentation_models_pytorch as smp\n",
    "# Set device: `cuda` or `cpu`\n",
    "DEVICE = torch.device(\"cuda\" if torch.cuda.is_available() else \"cpu\")\n",
    "\n",
    "# define loss function\n",
    "loss = smp.utils.losses.DiceLoss()\n",
    "\n",
    "# define metrics\n",
    "metrics = [\n",
    "    smp.utils.metrics.IoU(threshold=0.5),\n",
    "]"
   ]
  },
  {
   "cell_type": "code",
   "execution_count": null,
   "id": "36242211-44d9-4d0a-8707-6f418daa4f18",
   "metadata": {},
   "outputs": [
    {
     "name": "stdout",
     "output_type": "stream",
     "text": [
      "valid:  84%|████████▎ | 4727/5655 [8:00:13<1:31:32,  5.92s/it, dice_loss - 0.3289, iou_score - 0.5525]"
     ]
    }
   ],
   "source": [
    "test_epoch = smp.utils.train.ValidEpoch(\n",
    "    model,\n",
    "    loss=loss, \n",
    "    metrics=metrics, \n",
    "    device=DEVICE,\n",
    "    verbose=True,\n",
    ")\n",
    "\n",
    "valid_logs = test_epoch.run(test_dataloader)\n",
    "print(\"Evaluation on Test Data: \")\n",
    "print(f\"Mean IoU Score: {valid_logs['iou_score']:.4f}\")\n",
    "print(f\"Mean Dice Loss: {valid_logs['dice_loss']:.4f}\")"
   ]
  },
  {
   "cell_type": "markdown",
   "id": "a8f88db3-ca19-49c1-8812-86b8ec73ca75",
   "metadata": {},
   "source": [
    "### Avg IoU ~ 55%\n",
    "### Time of prediction: ~ 130 ms"
   ]
  }
 ],
 "metadata": {
  "kernelspec": {
   "display_name": "Python 3 (ipykernel)",
   "language": "python",
   "name": "python3"
  },
  "language_info": {
   "codemirror_mode": {
    "name": "ipython",
    "version": 3
   },
   "file_extension": ".py",
   "mimetype": "text/x-python",
   "name": "python",
   "nbconvert_exporter": "python",
   "pygments_lexer": "ipython3",
   "version": "3.8.13"
  }
 },
 "nbformat": 4,
 "nbformat_minor": 5
}

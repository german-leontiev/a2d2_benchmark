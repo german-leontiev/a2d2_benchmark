{
 "cells": [
  {
   "cell_type": "markdown",
   "id": "efd70f2c-174d-4f35-ae14-51035a33a313",
   "metadata": {
    "tags": []
   },
   "source": [
    "# Download dataset"
   ]
  },
  {
   "cell_type": "code",
   "execution_count": 16,
   "id": "0a757711-97c0-4b97-ba25-d1eb8814f852",
   "metadata": {},
   "outputs": [],
   "source": [
    "from global_names import A2D2_PATH\n",
    "import requests, xmltodict, os\n",
    "from glob import glob\n",
    "from os import path\n",
    "from os.path import sep\n",
    "\n",
    "DL_SERVER = \"https://aev-autonomous-driving-dataset.s3.eu-central-1.amazonaws.com/\"\n",
    "\n",
    "my_xml = requests.get(DL_SERVER).text\n",
    "my_dict = xmltodict.parse(my_xml)\n",
    "my_files = {i[\"Key\"]:i[\"Size\"] for i in my_dict[\"ListBucketResult\"][\"Contents\"]}"
   ]
  },
  {
   "cell_type": "code",
   "execution_count": 2,
   "id": "dbfce81a-fa57-4027-871f-56e14bbe2c7a",
   "metadata": {},
   "outputs": [
    {
     "name": "stdout",
     "output_type": "stream",
     "text": [
      "Download not finished:\n",
      "\n",
      "\n",
      "\n",
      "\n",
      "Not presented:\n",
      "\n",
      "a2d2-preview.tar\n"
     ]
    }
   ],
   "source": [
    "to_load = []\n",
    "print(\"Download not finished:\", end=\"\\n\\n\")\n",
    "for f in glob(os.path.join(A2D2_PATH, \"*\")):\n",
    "    if os.path.isfile(f):\n",
    "        filesize = os.path.getsize(f)\n",
    "        filename = os.path.basename(f)\n",
    "        if filename in my_files.keys():\n",
    "            if not int(my_files[filename]) == int(filesize):\n",
    "                to_load.append(filename)\n",
    "                print(filename, str(int(filesize) / int(my_files[filename]) * 100)[:4] + \"%\")\n",
    "\n",
    "\n",
    "print(\"\\n\\n\\nNot presented:\", end=\"\\n\\n\")\n",
    "for f in my_files.keys():\n",
    "    if not os.path.exists(os.path.join(A2D2_PATH, f)):\n",
    "        to_load.append(f)\n",
    "        print(f)"
   ]
  },
  {
   "cell_type": "code",
   "execution_count": 3,
   "id": "3083afa3-960b-48ab-a573-433ea1144112",
   "metadata": {},
   "outputs": [],
   "source": [
    "# with open(os.path.join(\"to_load.txt\"), \"w\") as file:\n",
    "#     for f in to_load:\n",
    "#         string = DL_SERVER + f + \"\\n\"\n",
    "#         file.write(string)"
   ]
  },
  {
   "cell_type": "code",
   "execution_count": 4,
   "id": "2b508131-fb94-4482-8997-28e055e2d84b",
   "metadata": {},
   "outputs": [],
   "source": [
    "# for i in `cat  ~/untar_list.txt`; do echo $i extracting; echo `date +\"day: %d time: %T\"`; du -h $i; sudo tar xf $i; echo \"\"; echo $i >> ~/done_files.txt; done"
   ]
  },
  {
   "cell_type": "code",
   "execution_count": 19,
   "id": "0cb68341-c692-48b9-a5f8-f5c01feb0165",
   "metadata": {},
   "outputs": [],
   "source": [
    "with open(f\"{A2D2_PATH}{sep}files_list.txt\") as file:\n",
    "    lines = file.readlines()\n",
    "    lines = [line.rstrip() for line in lines]"
   ]
  },
  {
   "cell_type": "code",
   "execution_count": 27,
   "id": "c38f396c-d874-4af1-b805-cc3e8f8f9747",
   "metadata": {},
   "outputs": [],
   "source": [
    "not_exist = []\n",
    "for p in [path.join(A2D2_PATH, l) for l in lines]:\n",
    "    if not path.exists(p):\n",
    "        not_exist.append(p)"
   ]
  },
  {
   "cell_type": "code",
   "execution_count": 28,
   "id": "f54ad589-fa7e-477c-bbe1-50fd96b02f37",
   "metadata": {},
   "outputs": [
    {
     "data": {
      "text/plain": [
       "0"
      ]
     },
     "execution_count": 28,
     "metadata": {},
     "output_type": "execute_result"
    }
   ],
   "source": [
    "len(not_exist)"
   ]
  },
  {
   "cell_type": "code",
   "execution_count": null,
   "id": "82dfa891-59eb-470b-a002-03b1b1cef0db",
   "metadata": {},
   "outputs": [],
   "source": []
  },
  {
   "cell_type": "code",
   "execution_count": null,
   "id": "94551a0b-1ed9-4de8-898d-65fa0d609958",
   "metadata": {},
   "outputs": [],
   "source": []
  }
 ],
 "metadata": {
  "kernelspec": {
   "display_name": "Python 3 (ipykernel)",
   "language": "python",
   "name": "python3"
  },
  "language_info": {
   "codemirror_mode": {
    "name": "ipython",
    "version": 3
   },
   "file_extension": ".py",
   "mimetype": "text/x-python",
   "name": "python",
   "nbconvert_exporter": "python",
   "pygments_lexer": "ipython3",
   "version": "3.8.13"
  }
 },
 "nbformat": 4,
 "nbformat_minor": 5
}
